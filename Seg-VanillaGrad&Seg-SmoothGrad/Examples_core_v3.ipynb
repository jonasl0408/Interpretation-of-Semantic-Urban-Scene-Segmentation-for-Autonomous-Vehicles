{
 "cells": [
  {
   "cell_type": "markdown",
   "metadata": {},
   "source": [
    "# Computing saliency masks with the PAIRML saliency library (for TF2 and other frameworks)\n",
    "\n",
    "This notebook demonstrates a number of saliency mask techniques, augmented with the `SmoothGrad` technique, using the VGG16 convolutional neural network in TF2. The intention of this notebook is to have as few dependencies as possible to show how to compute masks for ML frameowrks.\n",
    "\n",
    "This notebook shows the following techniques, alongside with the `SmoothGrad` augmentation:\n",
    "\n",
    "*   Vanilla Gradients\n",
    "    ([paper](https://scholar.google.com/scholar?q=Visualizing+higher-layer+features+of+a+deep+network&btnG=&hl=en&as_sdt=0%2C22),\n",
    "    [paper](https://arxiv.org/abs/1312.6034))\n",
    "*   Integrated Gradients ([paper](https://arxiv.org/abs/1703.01365))\n",
    "*   XRAI ([paper](https://arxiv.org/abs/1906.02825))\n",
    "*   Grad-CAM ([paper](https://arxiv.org/abs/1610.02391))\n",
    "*   Blur IG ([paper](https://arxiv.org/abs/2004.03383))\n",
    "*   Guided IG ([paper](https://arxiv.org/abs/2106.09788))\n",
    "\n",
    "This notebook assumes you have the `saliency` pip package installed. To install run (use `pip3` for python 3.x):\n",
    "```\n",
    "pip install saliency tensorflow\n",
    "```"
   ]
  },
  {
   "cell_type": "code",
   "execution_count": 86,
   "metadata": {},
   "outputs": [],
   "source": [
    "# Boilerplate imports.\n",
    "import tensorflow as tf\n",
    "import numpy as np\n",
    "import PIL.Image\n",
    "from matplotlib import pylab as P\n",
    "from tensorflow import keras\n",
    "# From our repository.\n",
    "import saliency.core as saliency\n",
    "from PIL import Image\n",
    "import matplotlib\n",
    "import matplotlib.pyplot as plt\n",
    "import cv2\n",
    "import json\n",
    "import os\n",
    "import numpy as np\n",
    "import tensorflow as tf\n",
    "from tensorflow import keras\n",
    "import matplotlib.pyplot as plt\n",
    "%matplotlib inline"
   ]
  },
  {
   "cell_type": "markdown",
   "metadata": {},
   "source": [
    "### Utility methods"
   ]
  },
  {
   "cell_type": "code",
   "execution_count": 2,
   "metadata": {},
   "outputs": [],
   "source": [
    "# Boilerplate methods.\n",
    "def ShowImage(im, title='', ax=None):\n",
    "  if ax is None:\n",
    "    P.figure()\n",
    "  P.axis('off')\n",
    "  P.imshow(im)\n",
    "  P.title(title)\n",
    "\n",
    "def ShowGrayscaleImage(im, title='', ax=None):\n",
    "  if ax is None:\n",
    "    P.figure()\n",
    "  P.axis('off')\n",
    "\n",
    "  P.imshow(im, cmap=P.cm.gray, vmin=0, vmax=1)\n",
    "  P.title(title)\n",
    "\n",
    "def ShowHeatMap(im, title, ax=None):\n",
    "  if ax is None:\n",
    "    P.figure()\n",
    "  P.axis('off')\n",
    "  P.imshow(im, cmap='inferno')\n",
    "  P.title(title)\n",
    "\n",
    "def LoadImage(file_path):\n",
    "  im = PIL.Image.open(file_path)\n",
    "  im = im.resize((224,224))\n",
    "  im = np.asarray(im)\n",
    "  return im\n",
    "\n",
    "def PreprocessImage(im):\n",
    "  im = tf.keras.applications.vgg16.preprocess_input(im)\n",
    "  return im"
   ]
  },
  {
   "cell_type": "markdown",
   "metadata": {},
   "source": [
    "### Loading the VGG16 model for ImageNet"
   ]
  },
  {
   "cell_type": "code",
   "execution_count": 20,
   "metadata": {},
   "outputs": [
    {
     "name": "stdout",
     "output_type": "stream",
     "text": [
      "Model: \"functional_5\"\n",
      "__________________________________________________________________________________________________\n",
      "Layer (type)                    Output Shape         Param #     Connected to                     \n",
      "==================================================================================================\n",
      "input_1 (InputLayer)            [(None, 256, 256, 3) 0                                            \n",
      "__________________________________________________________________________________________________\n",
      "zero_padding2d (ZeroPadding2D)  (None, 258, 258, 3)  0           input_1[0][0]                    \n",
      "__________________________________________________________________________________________________\n",
      "conv2d (Conv2D)                 (None, 256, 256, 64) 1792        zero_padding2d[0][0]             \n",
      "__________________________________________________________________________________________________\n",
      "batch_normalization (BatchNorma (None, 256, 256, 64) 256         conv2d[0][0]                     \n",
      "__________________________________________________________________________________________________\n",
      "activation (Activation)         (None, 256, 256, 64) 0           batch_normalization[0][0]        \n",
      "__________________________________________________________________________________________________\n",
      "max_pooling2d (MaxPooling2D)    (None, 128, 128, 64) 0           activation[0][0]                 \n",
      "__________________________________________________________________________________________________\n",
      "zero_padding2d_1 (ZeroPadding2D (None, 130, 130, 64) 0           max_pooling2d[0][0]              \n",
      "__________________________________________________________________________________________________\n",
      "conv2d_1 (Conv2D)               (None, 128, 128, 128 73856       zero_padding2d_1[0][0]           \n",
      "__________________________________________________________________________________________________\n",
      "batch_normalization_1 (BatchNor (None, 128, 128, 128 512         conv2d_1[0][0]                   \n",
      "__________________________________________________________________________________________________\n",
      "activation_1 (Activation)       (None, 128, 128, 128 0           batch_normalization_1[0][0]      \n",
      "__________________________________________________________________________________________________\n",
      "max_pooling2d_1 (MaxPooling2D)  (None, 64, 64, 128)  0           activation_1[0][0]               \n",
      "__________________________________________________________________________________________________\n",
      "zero_padding2d_2 (ZeroPadding2D (None, 66, 66, 128)  0           max_pooling2d_1[0][0]            \n",
      "__________________________________________________________________________________________________\n",
      "conv2d_2 (Conv2D)               (None, 64, 64, 256)  295168      zero_padding2d_2[0][0]           \n",
      "__________________________________________________________________________________________________\n",
      "batch_normalization_2 (BatchNor (None, 64, 64, 256)  1024        conv2d_2[0][0]                   \n",
      "__________________________________________________________________________________________________\n",
      "activation_2 (Activation)       (None, 64, 64, 256)  0           batch_normalization_2[0][0]      \n",
      "__________________________________________________________________________________________________\n",
      "max_pooling2d_2 (MaxPooling2D)  (None, 32, 32, 256)  0           activation_2[0][0]               \n",
      "__________________________________________________________________________________________________\n",
      "zero_padding2d_3 (ZeroPadding2D (None, 34, 34, 256)  0           max_pooling2d_2[0][0]            \n",
      "__________________________________________________________________________________________________\n",
      "conv2d_3 (Conv2D)               (None, 32, 32, 256)  590080      zero_padding2d_3[0][0]           \n",
      "__________________________________________________________________________________________________\n",
      "batch_normalization_3 (BatchNor (None, 32, 32, 256)  1024        conv2d_3[0][0]                   \n",
      "__________________________________________________________________________________________________\n",
      "activation_3 (Activation)       (None, 32, 32, 256)  0           batch_normalization_3[0][0]      \n",
      "__________________________________________________________________________________________________\n",
      "max_pooling2d_3 (MaxPooling2D)  (None, 16, 16, 256)  0           activation_3[0][0]               \n",
      "__________________________________________________________________________________________________\n",
      "zero_padding2d_5 (ZeroPadding2D (None, 18, 18, 256)  0           max_pooling2d_3[0][0]            \n",
      "__________________________________________________________________________________________________\n",
      "conv2d_5 (Conv2D)               (None, 16, 16, 512)  1180160     zero_padding2d_5[0][0]           \n",
      "__________________________________________________________________________________________________\n",
      "batch_normalization_5 (BatchNor (None, 16, 16, 512)  2048        conv2d_5[0][0]                   \n",
      "__________________________________________________________________________________________________\n",
      "up_sampling2d (UpSampling2D)    (None, 32, 32, 512)  0           batch_normalization_5[0][0]      \n",
      "__________________________________________________________________________________________________\n",
      "concatenate (Concatenate)       (None, 32, 32, 768)  0           up_sampling2d[0][0]              \n",
      "                                                                 max_pooling2d_2[0][0]            \n",
      "__________________________________________________________________________________________________\n",
      "zero_padding2d_6 (ZeroPadding2D (None, 34, 34, 768)  0           concatenate[0][0]                \n",
      "__________________________________________________________________________________________________\n",
      "conv2d_6 (Conv2D)               (None, 32, 32, 256)  1769728     zero_padding2d_6[0][0]           \n",
      "__________________________________________________________________________________________________\n",
      "batch_normalization_6 (BatchNor (None, 32, 32, 256)  1024        conv2d_6[0][0]                   \n",
      "__________________________________________________________________________________________________\n",
      "up_sampling2d_1 (UpSampling2D)  (None, 64, 64, 256)  0           batch_normalization_6[0][0]      \n",
      "__________________________________________________________________________________________________\n",
      "concatenate_1 (Concatenate)     (None, 64, 64, 384)  0           up_sampling2d_1[0][0]            \n",
      "                                                                 max_pooling2d_1[0][0]            \n",
      "__________________________________________________________________________________________________\n",
      "zero_padding2d_7 (ZeroPadding2D (None, 66, 66, 384)  0           concatenate_1[0][0]              \n",
      "__________________________________________________________________________________________________\n",
      "conv2d_7 (Conv2D)               (None, 64, 64, 128)  442496      zero_padding2d_7[0][0]           \n",
      "__________________________________________________________________________________________________\n",
      "batch_normalization_7 (BatchNor (None, 64, 64, 128)  512         conv2d_7[0][0]                   \n",
      "__________________________________________________________________________________________________\n",
      "up_sampling2d_2 (UpSampling2D)  (None, 128, 128, 128 0           batch_normalization_7[0][0]      \n",
      "__________________________________________________________________________________________________\n",
      "concatenate_2 (Concatenate)     (None, 128, 128, 192 0           up_sampling2d_2[0][0]            \n",
      "                                                                 max_pooling2d[0][0]              \n",
      "__________________________________________________________________________________________________\n",
      "zero_padding2d_8 (ZeroPadding2D (None, 130, 130, 192 0           concatenate_2[0][0]              \n",
      "__________________________________________________________________________________________________\n",
      "seg_feats (Conv2D)              (None, 128, 128, 64) 110656      zero_padding2d_8[0][0]           \n",
      "__________________________________________________________________________________________________\n",
      "batch_normalization_8 (BatchNor (None, 128, 128, 64) 256         seg_feats[0][0]                  \n",
      "__________________________________________________________________________________________________\n",
      "up_sampling2d_3 (UpSampling2D)  (None, 256, 256, 64) 0           batch_normalization_8[0][0]      \n",
      "__________________________________________________________________________________________________\n",
      "conv2d_8 (Conv2D)               (None, 256, 256, 13) 7501        up_sampling2d_3[0][0]            \n",
      "__________________________________________________________________________________________________\n",
      "activation_5 (Activation)       (None, 256, 256, 13) 0           conv2d_8[0][0]                   \n",
      "==================================================================================================\n",
      "Total params: 4,478,093\n",
      "Trainable params: 4,474,765\n",
      "Non-trainable params: 3,328\n",
      "__________________________________________________________________________________________________\n"
     ]
    }
   ],
   "source": [
    "#m = tf.keras.applications.vgg16.VGG16(weights='imagenet', include_top=True)\n",
    "unet_model = keras.models.load_model('C:/Users/ljx0408/cityscapes_segmentation_models/unet')\n",
    "unet_model.summary()\n",
    "conv_layer = unet_model.get_layer('conv2d_8')\n",
    "model = tf.keras.models.Model([unet_model.inputs], [conv_layer.output, unet_model.output])"
   ]
  },
  {
   "cell_type": "markdown",
   "metadata": {},
   "source": [
    "`call_model_function` is how we pass inputs to our model and receive outputs necessary to computer saliency masks. The description of this method and necessary outputs is in the base CoreSaliency description, as well as separately for each method."
   ]
  },
  {
   "cell_type": "markdown",
   "metadata": {},
   "source": [
    "### Load an image and infer"
   ]
  },
  {
   "cell_type": "code",
   "execution_count": 4,
   "metadata": {},
   "outputs": [],
   "source": [
    "def LoadImage(name, path):\n",
    "    img = Image.open(os.path.join(path, name))\n",
    "    img = np.array(img)\n",
    "    \n",
    "    image = img[:,:256]\n",
    "    mask = img[:,256:]\n",
    "    \n",
    "    return image, mask"
   ]
  },
  {
   "cell_type": "code",
   "execution_count": 5,
   "metadata": {},
   "outputs": [
    {
     "data": {
      "image/png": "[encoded data removed]",
      "text/plain": [
       "<Figure size 432x288 with 1 Axes>"
      ]
     },
     "metadata": {
      "needs_background": "light"
     },
     "output_type": "display_data"
    }
   ],
   "source": [
    "# Load the image\n",
    "m='55.jpg'\n",
    "valid_folder=\"C:/Users/ljx0408/cityscapes_segmentation_models/cityscapes_data/cityscapes_data/val\"\n",
    "m ,tru=LoadImage(m, valid_folder)\n",
    "im_orig = m\n",
    "im = PreprocessImage(im_orig)\n",
    "# Show the image\n",
    "ShowImage(im_orig)\n",
    "_, predictions = model(np.array([im]))\n"
   ]
  },
  {
   "cell_type": "code",
   "execution_count": 6,
   "metadata": {},
   "outputs": [],
   "source": [
    "class SuperRoI:  # or rename it to ClassRoI\n",
    "    def __init__(self, image =None):\n",
    "        self.image = image\n",
    "        self.roi = 1\n",
    "        self.fullroi = None\n",
    "        self.i = None\n",
    "        self.j = None\n",
    "\n",
    "    def setRoIij(self):\n",
    "        print(\"Shape of RoI: \", self.roi.shape)\n",
    "        self.i = np.where(self.roi == 1)[0]\n",
    "        self.j = np.where(self.roi == 1)[1]\n",
    "        print(\"Lengths of i and j index lists:\", len(self.i), len(self.j))\n",
    "\n",
    "    def meshgrid(self):\n",
    "        # mesh for contour\n",
    "        ylist = np.linspace(0, self.image.shape[0], self.image.shape[0])\n",
    "        xlist = np.linspace(0, self.image.shape[1], self.image.shape[1])\n",
    "        return np.meshgrid(xlist, ylist) #returns X,Y\n",
    "class PixelRoI(SuperRoI):\n",
    "    def __init__(self, i, j, image):\n",
    "        self.image = image\n",
    "        self.roi = np.zeros((image.shape[-3], image.shape[-2]))\n",
    "        self.roi[i, j] = 1\n",
    "        self.i = i\n",
    "        self.j = j\n"
   ]
  },
  {
   "cell_type": "code",
   "execution_count": 84,
   "metadata": {},
   "outputs": [],
   "source": [
    "class_idx_str = 'class_idx_str'\n",
    "def call_model_function(images, roi, cls, expected_keys=None):\n",
    "    target_class_idx =  cls\n",
    "    images = tf.convert_to_tensor(images)\n",
    "    with tf.GradientTape() as tape:\n",
    "        if expected_keys==[saliency.base.INPUT_OUTPUT_GRADIENTS]:\n",
    "            tape.watch(images)\n",
    "            conv_output, output_layer = model(images)\n",
    "            #print(output_layer.shape) #correct\n",
    "            output_layer = output_layer[0,:,:,target_class_idx]\n",
    "            #print(output_layer.shape) #correct\n",
    "            output = output_layer*roi.roi\n",
    "       \n",
    "            #gradients = np.array(tape.gradient(output, images))\n",
    "            gradients = tape.gradient(output, images)\n",
    "            img_dim = images.shape[:2]\n",
    "            gradients = cv2.resize(gradients, img_dim[::-1], cv2.INTER_LINEAR)\n",
    "            return {saliency.base.INPUT_OUTPUT_GRADIENTS: gradients}\n",
    "        else:\n",
    "            conv_layer, output_layer = model(images)\n",
    "            gradients = np.array(tape.gradient(output_layer, conv_layer))\n",
    "            return {saliency.base.CONVOLUTION_LAYER_VALUES: conv_layer,\n",
    "                    saliency.base.CONVOLUTION_OUTPUT_GRADIENTS: gradients}"
   ]
  },
  {
   "cell_type": "markdown",
   "metadata": {},
   "source": [
    "### Vanilla Gradient & SmoothGrad"
   ]
  },
  {
   "cell_type": "code",
   "execution_count": 82,
   "metadata": {},
   "outputs": [],
   "source": [
    "roi=PixelRoI(1,1,m)\n",
    "cls = 1"
   ]
  },
  {
   "cell_type": "code",
   "execution_count": 87,
   "metadata": {},
   "outputs": [
    {
     "ename": "TypeError",
     "evalue": "Expected cv::UMat for argument 'src'",
     "output_type": "error",
     "traceback": [
      "\u001b[1;31m---------------------------------------------------------------------------\u001b[0m",
      "\u001b[1;31mTypeError\u001b[0m                                 Traceback (most recent call last)",
      "\u001b[1;32m~\\AppData\\Local\\Temp/ipykernel_8200/3697116079.py\u001b[0m in \u001b[0;36m<module>\u001b[1;34m\u001b[0m\n\u001b[0;32m      3\u001b[0m \u001b[1;33m\u001b[0m\u001b[0m\n\u001b[0;32m      4\u001b[0m \u001b[1;31m# Compute the vanilla mask and the smoothed mask.\u001b[0m\u001b[1;33m\u001b[0m\u001b[1;33m\u001b[0m\u001b[1;33m\u001b[0m\u001b[0m\n\u001b[1;32m----> 5\u001b[1;33m \u001b[0mvanilla_mask_3d\u001b[0m \u001b[1;33m=\u001b[0m \u001b[0mgradient_saliency\u001b[0m\u001b[1;33m.\u001b[0m\u001b[0mGetMask\u001b[0m\u001b[1;33m(\u001b[0m\u001b[0mim\u001b[0m\u001b[1;33m,\u001b[0m \u001b[0mcall_model_function\u001b[0m\u001b[1;33m,\u001b[0m \u001b[0mroi\u001b[0m\u001b[1;33m,\u001b[0m \u001b[0mcls\u001b[0m\u001b[1;33m)\u001b[0m\u001b[1;33m\u001b[0m\u001b[1;33m\u001b[0m\u001b[0m\n\u001b[0m\u001b[0;32m      6\u001b[0m \u001b[0msmoothgrad_mask_3d\u001b[0m \u001b[1;33m=\u001b[0m \u001b[0mgradient_saliency\u001b[0m\u001b[1;33m.\u001b[0m\u001b[0mGetSmoothedMask\u001b[0m\u001b[1;33m(\u001b[0m\u001b[0mim\u001b[0m\u001b[1;33m,\u001b[0m \u001b[0mcall_model_function\u001b[0m\u001b[1;33m,\u001b[0m \u001b[0mroi\u001b[0m\u001b[1;33m,\u001b[0m \u001b[0mcls\u001b[0m\u001b[1;33m)\u001b[0m\u001b[1;33m\u001b[0m\u001b[1;33m\u001b[0m\u001b[0m\n\u001b[0;32m      7\u001b[0m \u001b[1;33m\u001b[0m\u001b[0m\n",
      "\u001b[1;32m~\\cityscapes_segmentation_models\\saliency-master\\saliency\\core\\gradients.py\u001b[0m in \u001b[0;36mGetMask\u001b[1;34m(self, x_value, call_model_function, roi, cls)\u001b[0m\n\u001b[0;32m     50\u001b[0m     \"\"\"\n\u001b[0;32m     51\u001b[0m     \u001b[0mx_value_batched\u001b[0m \u001b[1;33m=\u001b[0m \u001b[0mnp\u001b[0m\u001b[1;33m.\u001b[0m\u001b[0mexpand_dims\u001b[0m\u001b[1;33m(\u001b[0m\u001b[0mx_value\u001b[0m\u001b[1;33m,\u001b[0m \u001b[0maxis\u001b[0m\u001b[1;33m=\u001b[0m\u001b[1;36m0\u001b[0m\u001b[1;33m)\u001b[0m\u001b[1;33m\u001b[0m\u001b[1;33m\u001b[0m\u001b[0m\n\u001b[1;32m---> 52\u001b[1;33m     call_model_output = call_model_function(\n\u001b[0m\u001b[0;32m     53\u001b[0m         \u001b[0mx_value_batched\u001b[0m\u001b[1;33m,\u001b[0m\u001b[1;33m\u001b[0m\u001b[1;33m\u001b[0m\u001b[0m\n\u001b[0;32m     54\u001b[0m         \u001b[0mroi\u001b[0m\u001b[1;33m,\u001b[0m\u001b[1;33m\u001b[0m\u001b[1;33m\u001b[0m\u001b[0m\n",
      "\u001b[1;32m~\\AppData\\Local\\Temp/ipykernel_8200/2882224139.py\u001b[0m in \u001b[0;36mcall_model_function\u001b[1;34m(images, roi, cls, expected_keys)\u001b[0m\n\u001b[0;32m     15\u001b[0m             \u001b[0mgradients\u001b[0m \u001b[1;33m=\u001b[0m \u001b[0mtape\u001b[0m\u001b[1;33m.\u001b[0m\u001b[0mgradient\u001b[0m\u001b[1;33m(\u001b[0m\u001b[0moutput\u001b[0m\u001b[1;33m,\u001b[0m \u001b[0mimages\u001b[0m\u001b[1;33m)\u001b[0m\u001b[1;33m\u001b[0m\u001b[1;33m\u001b[0m\u001b[0m\n\u001b[0;32m     16\u001b[0m             \u001b[0mimg_dim\u001b[0m \u001b[1;33m=\u001b[0m \u001b[0mimages\u001b[0m\u001b[1;33m.\u001b[0m\u001b[0mshape\u001b[0m\u001b[1;33m[\u001b[0m\u001b[1;33m:\u001b[0m\u001b[1;36m2\u001b[0m\u001b[1;33m]\u001b[0m\u001b[1;33m\u001b[0m\u001b[1;33m\u001b[0m\u001b[0m\n\u001b[1;32m---> 17\u001b[1;33m             \u001b[0mgradients\u001b[0m \u001b[1;33m=\u001b[0m \u001b[0mcv2\u001b[0m\u001b[1;33m.\u001b[0m\u001b[0mresize\u001b[0m\u001b[1;33m(\u001b[0m\u001b[0mgradients\u001b[0m\u001b[1;33m,\u001b[0m \u001b[0mimg_dim\u001b[0m\u001b[1;33m[\u001b[0m\u001b[1;33m:\u001b[0m\u001b[1;33m:\u001b[0m\u001b[1;33m-\u001b[0m\u001b[1;36m1\u001b[0m\u001b[1;33m]\u001b[0m\u001b[1;33m,\u001b[0m \u001b[0mcv2\u001b[0m\u001b[1;33m.\u001b[0m\u001b[0mINTER_LINEAR\u001b[0m\u001b[1;33m)\u001b[0m\u001b[1;33m\u001b[0m\u001b[1;33m\u001b[0m\u001b[0m\n\u001b[0m\u001b[0;32m     18\u001b[0m             \u001b[1;32mreturn\u001b[0m \u001b[1;33m{\u001b[0m\u001b[0msaliency\u001b[0m\u001b[1;33m.\u001b[0m\u001b[0mbase\u001b[0m\u001b[1;33m.\u001b[0m\u001b[0mINPUT_OUTPUT_GRADIENTS\u001b[0m\u001b[1;33m:\u001b[0m \u001b[0mgradients\u001b[0m\u001b[1;33m}\u001b[0m\u001b[1;33m\u001b[0m\u001b[1;33m\u001b[0m\u001b[0m\n\u001b[0;32m     19\u001b[0m         \u001b[1;32melse\u001b[0m\u001b[1;33m:\u001b[0m\u001b[1;33m\u001b[0m\u001b[1;33m\u001b[0m\u001b[0m\n",
      "\u001b[1;31mTypeError\u001b[0m: Expected cv::UMat for argument 'src'"
     ]
    }
   ],
   "source": [
    "# Construct the saliency object. This alone doesn't do anthing.\n",
    "gradient_saliency = saliency.GradientSaliency()\n",
    "\n",
    "# Compute the vanilla mask and the smoothed mask.\n",
    "vanilla_mask_3d = gradient_saliency.GetMask(im, call_model_function, roi, cls)\n",
    "smoothgrad_mask_3d = gradient_saliency.GetSmoothedMask(im, call_model_function, roi, cls)\n",
    "\n",
    "# Call the visualization methods to convert the 3D tensors to 2D grayscale.\n",
    "vanilla_mask_grayscale = saliency.VisualizeImageGrayscale(vanilla_mask_3d)\n",
    "smoothgrad_mask_grayscale = saliency.VisualizeImageGrayscale(smoothgrad_mask_3d)\n",
    "\n",
    "# Set up matplot lib figures.\n",
    "ROWS = 1\n",
    "COLS = 2\n",
    "UPSCALE_FACTOR = 10\n",
    "P.figure(figsize=(ROWS * UPSCALE_FACTOR, COLS * UPSCALE_FACTOR))\n",
    "\n",
    "# Render the saliency masks.\n",
    "ShowGrayscaleImage(vanilla_mask_grayscale, title='Vanilla Gradient', ax=P.subplot(ROWS, COLS, 1))\n",
    "ShowGrayscaleImage(smoothgrad_mask_grayscale, title='SmoothGrad', ax=P.subplot(ROWS, COLS, 2))"
   ]
  },
  {
   "cell_type": "markdown",
   "metadata": {},
   "source": [
    "### Integrated Gradients & SmoothGrad\n",
    "\n",
    "For saliency methods that compute gradients along a path (e.g. Integrated Gradients), we can pass a batch_size parameter, which will batch the different steps along the path together so that the model isn't called for each individual step. When using this parameter, be sure that you are not overloading memory, as a very large batch size could crash the program."
   ]
  },
  {
   "cell_type": "code",
   "execution_count": 10,
   "metadata": {},
   "outputs": [
    {
     "ename": "NameError",
     "evalue": "name 'call_model_args' is not defined",
     "output_type": "error",
     "traceback": [
      "\u001b[1;31m---------------------------------------------------------------------------\u001b[0m",
      "\u001b[1;31mNameError\u001b[0m                                 Traceback (most recent call last)",
      "\u001b[1;32m~\\AppData\\Local\\Temp/ipykernel_8200/918976255.py\u001b[0m in \u001b[0;36m<module>\u001b[1;34m\u001b[0m\n\u001b[0;32m      7\u001b[0m \u001b[1;31m# Compute the vanilla mask and the smoothed mask.\u001b[0m\u001b[1;33m\u001b[0m\u001b[1;33m\u001b[0m\u001b[1;33m\u001b[0m\u001b[0m\n\u001b[0;32m      8\u001b[0m vanilla_integrated_gradients_mask_3d = integrated_gradients.GetMask(\n\u001b[1;32m----> 9\u001b[1;33m   im, call_model_function, call_model_args, x_steps=25, x_baseline=baseline, batch_size=20)\n\u001b[0m\u001b[0;32m     10\u001b[0m \u001b[1;31m# Smoothed mask for integrated gradients will take a while since we are doing nsamples * nsamples computations.\u001b[0m\u001b[1;33m\u001b[0m\u001b[1;33m\u001b[0m\u001b[1;33m\u001b[0m\u001b[0m\n\u001b[0;32m     11\u001b[0m smoothgrad_integrated_gradients_mask_3d = integrated_gradients.GetSmoothedMask(\n",
      "\u001b[1;31mNameError\u001b[0m: name 'call_model_args' is not defined"
     ]
    }
   ],
   "source": [
    "# Construct the saliency object. This alone doesn't do anthing.\n",
    "integrated_gradients = saliency.IntegratedGradients()\n",
    "\n",
    "# Baseline is a black image.\n",
    "baseline = np.zeros(im.shape)\n",
    "\n",
    "# Compute the vanilla mask and the smoothed mask.\n",
    "vanilla_integrated_gradients_mask_3d = integrated_gradients.GetMask(\n",
    "  im, call_model_function, call_model_args, x_steps=25, x_baseline=baseline, batch_size=20)\n",
    "# Smoothed mask for integrated gradients will take a while since we are doing nsamples * nsamples computations.\n",
    "smoothgrad_integrated_gradients_mask_3d = integrated_gradients.GetSmoothedMask(\n",
    "  im, call_model_function, call_model_args, x_steps=25, x_baseline=baseline, batch_size=20)\n",
    "\n",
    "# Call the visualization methods to convert the 3D tensors to 2D grayscale.\n",
    "vanilla_mask_grayscale = saliency.VisualizeImageGrayscale(vanilla_integrated_gradients_mask_3d)\n",
    "smoothgrad_mask_grayscale = saliency.VisualizeImageGrayscale(smoothgrad_integrated_gradients_mask_3d)\n",
    "\n",
    "# Set up matplot lib figures.\n",
    "ROWS = 1\n",
    "COLS = 2\n",
    "UPSCALE_FACTOR = 10\n",
    "P.figure(figsize=(ROWS * UPSCALE_FACTOR, COLS * UPSCALE_FACTOR))\n",
    "\n",
    "# Render the saliency masks.\n",
    "ShowGrayscaleImage(vanilla_mask_grayscale, title='Vanilla Integrated Gradients', ax=P.subplot(ROWS, COLS, 1))\n",
    "ShowGrayscaleImage(smoothgrad_mask_grayscale, title='Smoothgrad Integrated Gradients', ax=P.subplot(ROWS, COLS, 2))"
   ]
  },
  {
   "cell_type": "markdown",
   "metadata": {},
   "source": [
    "### XRAI Full and Fast"
   ]
  },
  {
   "cell_type": "code",
   "execution_count": null,
   "metadata": {},
   "outputs": [],
   "source": [
    "# Construct the saliency object. This alone doesn't do anthing.\n",
    "xrai_object = saliency.XRAI()\n",
    "\n",
    "# Compute XRAI attributions with default parameters\n",
    "xrai_attributions = xrai_object.GetMask(im, call_model_function, call_model_args, batch_size=20)\n",
    "\n",
    "# Set up matplot lib figures.\n",
    "ROWS = 1\n",
    "COLS = 3\n",
    "UPSCALE_FACTOR = 20\n",
    "P.figure(figsize=(ROWS * UPSCALE_FACTOR, COLS * UPSCALE_FACTOR))\n",
    "\n",
    "# Show original image\n",
    "ShowImage(im_orig, title='Original Image', ax=P.subplot(ROWS, COLS, 1))\n",
    "\n",
    "# Show XRAI heatmap attributions\n",
    "ShowHeatMap(xrai_attributions, title='XRAI Heatmap', ax=P.subplot(ROWS, COLS, 2))\n",
    "\n",
    "# Show most salient 30% of the image\n",
    "mask = xrai_attributions > np.percentile(xrai_attributions, 70)\n",
    "im_mask = np.array(im_orig)\n",
    "im_mask[~mask] = 0\n",
    "ShowImage(im_mask, title='Top 30%', ax=P.subplot(ROWS, COLS, 3))"
   ]
  },
  {
   "cell_type": "code",
   "execution_count": null,
   "metadata": {},
   "outputs": [],
   "source": [
    "# Create XRAIParameters and set the algorithm to fast mode which will produce an approximate result.\n",
    "xrai_params = saliency.XRAIParameters()\n",
    "xrai_params.algorithm = 'fast'\n",
    "\n",
    "# Compute XRAI attributions with fast algorithm\n",
    "xrai_attributions_fast = xrai_object.GetMask(im, call_model_function, call_model_args, extra_parameters=xrai_params, batch_size=20)\n",
    "\n",
    "# Set up matplot lib figures.\n",
    "ROWS = 1\n",
    "COLS = 3\n",
    "UPSCALE_FACTOR = 20\n",
    "P.figure(figsize=(ROWS * UPSCALE_FACTOR, COLS * UPSCALE_FACTOR))\n",
    "\n",
    "# Show original image\n",
    "ShowImage(im_orig, title='Original Image', ax=P.subplot(ROWS, COLS, 1))\n",
    "\n",
    "# Show XRAI heatmap attributions\n",
    "ShowHeatMap(xrai_attributions_fast, title='XRAI Heatmap', ax=P.subplot(ROWS, COLS, 2))\n",
    "\n",
    "# Show most salient 30% of the image\n",
    "mask = xrai_attributions_fast > np.percentile(xrai_attributions_fast, 70)\n",
    "im_mask = np.array(im_orig)\n",
    "im_mask[~mask] = 0\n",
    "ShowImage(im_mask, 'Top 30%', ax=P.subplot(ROWS, COLS, 3))"
   ]
  },
  {
   "cell_type": "markdown",
   "metadata": {},
   "source": [
    "### Grad-CAM"
   ]
  },
  {
   "cell_type": "code",
   "execution_count": null,
   "metadata": {},
   "outputs": [],
   "source": [
    "# Compare Grad-CAM and Smoothgrad with Grad-CAM.\n",
    "\n",
    "# Construct the saliency object. This alone doesn't do anthing.\n",
    "grad_cam = saliency.GradCam()\n",
    "\n",
    "# Compute the Grad-CAM mask and Smoothgrad+Grad-CAM mask.\n",
    "grad_cam_mask_3d = grad_cam.GetMask(im, call_model_function, call_model_args)\n",
    "smooth_grad_cam_mask_3d = grad_cam.GetSmoothedMask(im, call_model_function, call_model_args)\n",
    "\n",
    "# Call the visualization methods to convert the 3D tensors to 2D grayscale.\n",
    "grad_cam_mask_grayscale = saliency.VisualizeImageGrayscale(grad_cam_mask_3d)\n",
    "smooth_grad_cam_mask_grayscale = saliency.VisualizeImageGrayscale(smooth_grad_cam_mask_3d)\n",
    "\n",
    "# Set up matplot lib figures.\n",
    "ROWS = 1\n",
    "COLS = 2\n",
    "UPSCALE_FACTOR = 10\n",
    "P.figure(figsize=(ROWS * UPSCALE_FACTOR, COLS * UPSCALE_FACTOR))\n",
    "\n",
    "# Render the saliency masks.\n",
    "ShowGrayscaleImage(grad_cam_mask_grayscale, title='Grad-CAM', ax=P.subplot(ROWS, COLS, 1))\n",
    "ShowGrayscaleImage(smooth_grad_cam_mask_grayscale, title='Smoothgrad Grad-CAM', ax=P.subplot(ROWS, COLS, 2))"
   ]
  },
  {
   "cell_type": "markdown",
   "metadata": {},
   "source": [
    "### Guided IG"
   ]
  },
  {
   "cell_type": "code",
   "execution_count": null,
   "metadata": {},
   "outputs": [],
   "source": [
    "# Construct the saliency object. This doesn't yet compute the saliency mask, it just sets up the necessary ops.\n",
    "integrated_gradients = saliency.IntegratedGradients()\n",
    "guided_ig = saliency.GuidedIG()\n",
    "\n",
    "# Baseline is a black image for vanilla integrated gradients.\n",
    "baseline = np.zeros(im.shape)\n",
    "\n",
    "# Compute the vanilla mask and the Guided IG mask.\n",
    "vanilla_integrated_gradients_mask_3d = integrated_gradients.GetMask(\n",
    "  im, call_model_function, call_model_args, x_steps=25, x_baseline=baseline, batch_size=20)\n",
    "guided_ig_mask_3d = guided_ig.GetMask(\n",
    "  im, call_model_function, call_model_args, x_steps=25, x_baseline=baseline, max_dist=1.0, fraction=0.5)\n",
    "\n",
    "# Call the visualization methods to convert the 3D tensors to 2D grayscale.\n",
    "vanilla_mask_grayscale = saliency.VisualizeImageGrayscale(vanilla_integrated_gradients_mask_3d)\n",
    "guided_ig_mask_grayscale = saliency.VisualizeImageGrayscale(guided_ig_mask_3d)\n",
    "\n",
    "# Set up matplot lib figures.\n",
    "ROWS = 1\n",
    "COLS = 3\n",
    "UPSCALE_FACTOR = 20\n",
    "P.figure(figsize=(ROWS * UPSCALE_FACTOR, COLS * UPSCALE_FACTOR))\n",
    "\n",
    "# Render the saliency masks.\n",
    "ShowImage(im_orig, title='Original Image', ax=P.subplot(ROWS, COLS, 1))\n",
    "ShowGrayscaleImage(vanilla_mask_grayscale, title='Vanilla Integrated Gradients', ax=P.subplot(ROWS, COLS, 2))\n",
    "ShowGrayscaleImage(guided_ig_mask_grayscale, title='Guided Integrated Gradients', ax=P.subplot(ROWS, COLS, 3))"
   ]
  },
  {
   "cell_type": "markdown",
   "metadata": {},
   "source": [
    "### Blur IG"
   ]
  },
  {
   "cell_type": "code",
   "execution_count": null,
   "metadata": {},
   "outputs": [],
   "source": [
    "# Construct the saliency object. This alone doesn't do anthing.\n",
    "integrated_gradients = saliency.IntegratedGradients()\n",
    "blur_ig = saliency.BlurIG()\n",
    "\n",
    "# Baseline is a black image for vanilla integrated gradients.\n",
    "baseline = np.zeros(im.shape)\n",
    "\n",
    "# Compute the vanilla mask and the Blur IG mask.\n",
    "vanilla_integrated_gradients_mask_3d = integrated_gradients.GetMask(\n",
    "  im, call_model_function, call_model_args, x_steps=25, x_baseline=baseline, batch_size=20)\n",
    "blur_ig_mask_3d = blur_ig.GetMask(\n",
    "  im, call_model_function, call_model_args, batch_size=20)\n",
    "\n",
    "# Call the visualization methods to convert the 3D tensors to 2D grayscale.\n",
    "vanilla_mask_grayscale = saliency.VisualizeImageGrayscale(vanilla_integrated_gradients_mask_3d)\n",
    "blur_ig_mask_grayscale = saliency.VisualizeImageGrayscale(blur_ig_mask_3d)\n",
    "\n",
    "# Set up matplot lib figures.\n",
    "ROWS = 1\n",
    "COLS = 2\n",
    "UPSCALE_FACTOR = 10\n",
    "P.figure(figsize=(ROWS * UPSCALE_FACTOR, COLS * UPSCALE_FACTOR))\n",
    "\n",
    "# Render the saliency masks.\n",
    "ShowGrayscaleImage(vanilla_mask_grayscale, title='Vanilla Integrated Gradients', ax=P.subplot(ROWS, COLS, 1))\n",
    "ShowGrayscaleImage(blur_ig_mask_grayscale, title='Blur Integrated Gradients', ax=P.subplot(ROWS, COLS, 2))"
   ]
  },
  {
   "cell_type": "code",
   "execution_count": null,
   "metadata": {},
   "outputs": [],
   "source": [
    "# Compare BlurIG and Smoothgrad with BlurIG. Note: This will take a long time to run.\n",
    "\n",
    "# Construct the saliency object. This alone doesn't do anthing.\n",
    "blur_ig = saliency.BlurIG()\n",
    "\n",
    "# Compute the Blur IG mask and Smoothgrad+BlurIG mask.\n",
    "blur_ig_mask_3d = blur_ig.GetMask(im, call_model_function, call_model_args, batch_size=20)\n",
    "# Smoothed mask for BlurIG will take a while since we are doing nsamples * nsamples computations.\n",
    "smooth_blur_ig_mask_3d = blur_ig.GetSmoothedMask(im, call_model_function, call_model_args, batch_size=20)\n",
    "\n",
    "# Call the visualization methods to convert the 3D tensors to 2D grayscale.\n",
    "blur_ig_mask_grayscale = saliency.VisualizeImageGrayscale(blur_ig_mask_3d)\n",
    "smooth_blur_ig_mask_grayscale = saliency.VisualizeImageGrayscale(smooth_blur_ig_mask_3d)\n",
    "\n",
    "# Set up matplot lib figures.\n",
    "ROWS = 1\n",
    "COLS = 2\n",
    "UPSCALE_FACTOR = 10\n",
    "P.figure(figsize=(ROWS * UPSCALE_FACTOR, COLS * UPSCALE_FACTOR))\n",
    "\n",
    "# Render the saliency masks.\n",
    "ShowGrayscaleImage(blur_ig_mask_grayscale, title='Blur Integrated Gradients', ax=P.subplot(ROWS, COLS, 1))\n",
    "ShowGrayscaleImage(smooth_blur_ig_mask_grayscale, title='Smoothgrad Blur IG', ax=P.subplot(ROWS, COLS, 2))\n"
   ]
  }
 ],
 "metadata": {
  "kernelspec": {
   "display_name": "Python 3",
   "language": "python",
   "name": "python3"
  },
  "language_info": {
   "codemirror_mode": {
    "name": "ipython",
    "version": 3
   },
   "file_extension": ".py",
   "mimetype": "text/x-python",
   "name": "python",
   "nbconvert_exporter": "python",
   "pygments_lexer": "ipython3",
   "version": "3.8.6"
  }
 },
 "nbformat": 4,
 "nbformat_minor": 4
}
